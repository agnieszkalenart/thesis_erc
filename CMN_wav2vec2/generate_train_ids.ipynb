{
 "cells": [
  {
   "cell_type": "code",
   "execution_count": 105,
   "metadata": {},
   "outputs": [],
   "source": [
    "import pickle\n",
    "import random"
   ]
  },
  {
   "cell_type": "code",
   "execution_count": 106,
   "metadata": {},
   "outputs": [],
   "source": [
    "AUDIO_EMBEDDINGS = '/Users/agnieszkalenart/Documents/mannheim/master_thesis/cmn_audio_opensmile_new.pickle'\n",
    "TRAIN_IDS = '/Users/agnieszkalenart/Documents/mannheim/master_thesis/thesis_erc/CMN_wav2vec2/IEMOCAP/data/trainID.pkl'\n",
    "TEST_IDS = '/Users/agnieszkalenart/Documents/mannheim/master_thesis/thesis_erc/CMN_wav2vec2/IEMOCAP/data/testID.pkl'"
   ]
  },
  {
   "cell_type": "code",
   "execution_count": 107,
   "metadata": {},
   "outputs": [],
   "source": [
    "# load data\n",
    "audio_emb = pickle.load(open(AUDIO_EMBEDDINGS, 'rb'), encoding=\"latin1\")\n",
    "audio_emb_ids = list(audio_emb.keys())\n",
    "train_ids = pickle.load(open(TRAIN_IDS, 'rb'), encoding=\"latin1\")\n",
    "test_ids = pickle.load(open(TEST_IDS, 'rb'), encoding=\"latin1\")"
   ]
  },
  {
   "cell_type": "code",
   "execution_count": 108,
   "metadata": {},
   "outputs": [
    {
     "data": {
      "text/plain": [
       "1819"
      ]
     },
     "execution_count": 108,
     "metadata": {},
     "output_type": "execute_result"
    }
   ],
   "source": [
    "len(audio_emb)"
   ]
  },
  {
   "cell_type": "code",
   "execution_count": 109,
   "metadata": {},
   "outputs": [
    {
     "data": {
      "text/plain": [
       "array([ 0.7686932,  0.4929577,  0.9788732, ..., 46.56482  , 78.81342  ,\n",
       "       35.1368   ])"
      ]
     },
     "execution_count": 109,
     "metadata": {},
     "output_type": "execute_result"
    }
   ],
   "source": [
    "audio_emb['Ses01F_impro01_F003']"
   ]
  },
  {
   "cell_type": "code",
   "execution_count": 110,
   "metadata": {},
   "outputs": [
    {
     "data": {
      "text/plain": [
       "1819"
      ]
     },
     "execution_count": 110,
     "metadata": {},
     "output_type": "execute_result"
    }
   ],
   "source": [
    "len(audio_emb)"
   ]
  },
  {
   "cell_type": "code",
   "execution_count": 111,
   "metadata": {},
   "outputs": [
    {
     "data": {
      "text/plain": [
       "[]"
      ]
     },
     "execution_count": 111,
     "metadata": {},
     "output_type": "execute_result"
    }
   ],
   "source": [
    "#overlapping test and train ids\n",
    "overlapping_ids = list(set(train_ids).intersection(test_ids))\n",
    "overlapping_ids"
   ]
  },
  {
   "cell_type": "code",
   "execution_count": 112,
   "metadata": {},
   "outputs": [
    {
     "data": {
      "text/plain": [
       "(1637.1000000000001, 1819)"
      ]
     },
     "execution_count": 112,
     "metadata": {},
     "output_type": "execute_result"
    }
   ],
   "source": [
    "len(audio_emb_ids)*0.9,len(audio_emb_ids)\n"
   ]
  },
  {
   "cell_type": "code",
   "execution_count": 113,
   "metadata": {},
   "outputs": [
    {
     "data": {
      "text/plain": [
       "('Ses01M_script02_2_M054', 'Ses01M_script03_1_F000')"
      ]
     },
     "execution_count": 113,
     "metadata": {},
     "output_type": "execute_result"
    }
   ],
   "source": [
    "audio_emb_ids[1647], audio_emb_ids[1648]"
   ]
  },
  {
   "cell_type": "code",
   "execution_count": 114,
   "metadata": {},
   "outputs": [],
   "source": [
    "# get train and test embeddings\n",
    "train_audio_emb_ids = audio_emb_ids[:1648]\n",
    "test_audio_emb_ids = audio_emb_ids[1648:]"
   ]
  },
  {
   "cell_type": "code",
   "execution_count": 115,
   "metadata": {},
   "outputs": [],
   "source": [
    "# # get train and test embeddings random sample\n",
    "# train_audio_emb_ids = random.sample(audio_emb_ids, round(len(audio_emb_ids)*0.9))\t\n",
    "# test_audio_emb_ids = [id for id in audio_emb_ids if id not in train_audio_emb_ids]"
   ]
  },
  {
   "cell_type": "code",
   "execution_count": 116,
   "metadata": {},
   "outputs": [],
   "source": [
    "# #filter out train and test ids using train and test ids from IEMOCAP\n",
    "# train_audio_emb_ids = [id for id in audio_emb_ids if id in train_ids]\n",
    "# test_audio_emb_ids = [id for id in audio_emb_ids if id in test_ids]"
   ]
  },
  {
   "cell_type": "code",
   "execution_count": 117,
   "metadata": {},
   "outputs": [
    {
     "data": {
      "text/plain": [
       "(1819, 1648, 171)"
      ]
     },
     "execution_count": 117,
     "metadata": {},
     "output_type": "execute_result"
    }
   ],
   "source": [
    "len(audio_emb_ids), len(train_audio_emb_ids),len(test_audio_emb_ids)"
   ]
  },
  {
   "cell_type": "code",
   "execution_count": 118,
   "metadata": {},
   "outputs": [],
   "source": [
    "# save ids\n",
    "pickle.dump(train_audio_emb_ids, open('/Users/agnieszkalenart/Documents/mannheim/master_thesis/thesis_erc/CMN_wav2vec2/IEMOCAP/data/trainID_new.pkl', 'wb'))\n",
    "pickle.dump(test_audio_emb_ids, open('/Users/agnieszkalenart/Documents/mannheim/master_thesis/thesis_erc/CMN_wav2vec2/IEMOCAP/data/testID_new.pkl', 'wb'))"
   ]
  },
  {
   "cell_type": "code",
   "execution_count": 122,
   "metadata": {},
   "outputs": [],
   "source": [
    "# filter 'xxx', 'sur', 'oth', 'dis', 'fea' from labels out\n",
    "_, labels, _, _, _, _ = pickle.load(open(\"/Users/agnieszkalenart/Documents/mannheim/master_thesis/thesis_erc/CMN_wav2vec2/IEMOCAP/data/dataset.pkl\",'rb'), encoding=\"latin1\")\n",
    "\n",
    "todrop_values = ['xxx', 'sur', 'oth', 'dis', 'fea']\n",
    "todrop_keys = [key for key, value in labels.items() if value in todrop_values]\n",
    "\n",
    "train_audio_emb_ids = [ID for ID in train_audio_emb_ids if ID not in todrop_keys]\n",
    "test_audio_emb_ids = [ID for ID in test_audio_emb_ids if ID not in todrop_keys]\n",
    "\n",
    "#save filtered ids\n",
    "pickle.dump(train_audio_emb_ids, open('/Users/agnieszkalenart/Documents/mannheim/master_thesis/thesis_erc/CMN_wav2vec2/IEMOCAP/data/trainID_new_filtered.pkl', 'wb'))\n",
    "pickle.dump(test_audio_emb_ids, open('/Users/agnieszkalenart/Documents/mannheim/master_thesis/thesis_erc/CMN_wav2vec2/IEMOCAP/data/testID_new_filtered.pkl', 'wb'))"
   ]
  }
 ],
 "metadata": {
  "kernelspec": {
   "display_name": "base",
   "language": "python",
   "name": "python3"
  },
  "language_info": {
   "codemirror_mode": {
    "name": "ipython",
    "version": 3
   },
   "file_extension": ".py",
   "mimetype": "text/x-python",
   "name": "python",
   "nbconvert_exporter": "python",
   "pygments_lexer": "ipython3",
   "version": "3.8.12"
  },
  "orig_nbformat": 4
 },
 "nbformat": 4,
 "nbformat_minor": 2
}
