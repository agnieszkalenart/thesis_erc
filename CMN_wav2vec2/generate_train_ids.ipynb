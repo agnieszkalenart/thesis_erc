{
 "cells": [
  {
   "cell_type": "code",
   "execution_count": 7,
   "metadata": {},
   "outputs": [],
   "source": [
    "import pickle\n",
    "import random"
   ]
  },
  {
   "cell_type": "code",
   "execution_count": 11,
   "metadata": {},
   "outputs": [],
   "source": [
    "AUDIO_EMBEDDINGS = '/Users/agnieszkalenart/Documents/mannheim/master_thesis/cmn_audio_opensmile.pickle'\n",
    "TRAIN_IDS = '/Users/agnieszkalenart/Documents/mannheim/master_thesis/thesis_erc/CMN_wav2vec2/IEMOCAP/data/trainID.pkl'\n",
    "TEST_IDS = '/Users/agnieszkalenart/Documents/mannheim/master_thesis/thesis_erc/CMN_wav2vec2/IEMOCAP/data/testID.pkl'"
   ]
  },
  {
   "cell_type": "code",
   "execution_count": 12,
   "metadata": {},
   "outputs": [],
   "source": [
    "# load data\n",
    "audio_emb = pickle.load(open(AUDIO_EMBEDDINGS, 'rb'), encoding=\"latin1\")\n",
    "audio_emb_ids = list(audio_emb.keys())\n",
    "train_ids = pickle.load(open(TRAIN_IDS, 'rb'), encoding=\"latin1\")\n",
    "test_ids = pickle.load(open(TEST_IDS, 'rb'), encoding=\"latin1\")"
   ]
  },
  {
   "cell_type": "code",
   "execution_count": 4,
   "metadata": {},
   "outputs": [
    {
     "data": {
      "text/plain": [
       "[]"
      ]
     },
     "execution_count": 4,
     "metadata": {},
     "output_type": "execute_result"
    }
   ],
   "source": [
    "#overlapping test and train ids\n",
    "overlapping_ids = list(set(train_ids).intersection(test_ids))\n",
    "overlapping_ids"
   ]
  },
  {
   "cell_type": "code",
   "execution_count": 18,
   "metadata": {},
   "outputs": [
    {
     "data": {
      "text/plain": [
       "(1596.6000000000001, 1774)"
      ]
     },
     "execution_count": 18,
     "metadata": {},
     "output_type": "execute_result"
    }
   ],
   "source": [
    "len(audio_emb_ids)*0.9,len(audio_emb_ids)\n"
   ]
  },
  {
   "cell_type": "code",
   "execution_count": 23,
   "metadata": {},
   "outputs": [
    {
     "data": {
      "text/plain": [
       "('Ses01M_script02_2_F047', 'Ses01M_script02_2_M000')"
      ]
     },
     "execution_count": 23,
     "metadata": {},
     "output_type": "execute_result"
    }
   ],
   "source": [
    "audio_emb_ids[1556], audio_emb_ids[1557]"
   ]
  },
  {
   "cell_type": "code",
   "execution_count": 24,
   "metadata": {},
   "outputs": [],
   "source": [
    "# get train and test embeddings\n",
    "train_audio_emb_ids = audio_emb_ids[:1557]\n",
    "test_audio_emb_ids = audio_emb_ids[1557:]"
   ]
  },
  {
   "cell_type": "code",
   "execution_count": 38,
   "metadata": {},
   "outputs": [],
   "source": [
    "# # get train and test embeddings random sample\n",
    "# train_audio_emb_ids = random.sample(audio_emb_ids, round(len(audio_emb_ids)*0.9))\t\n",
    "# test_audio_emb_ids = [id for id in audio_emb_ids if id not in train_audio_emb_ids]"
   ]
  },
  {
   "cell_type": "code",
   "execution_count": 7,
   "metadata": {},
   "outputs": [],
   "source": [
    "# #filter out train and test ids using train and test ids from IEMOCAP\n",
    "# train_audio_emb_ids = [id for id in audio_emb_ids if id in train_ids]\n",
    "# test_audio_emb_ids = [id for id in audio_emb_ids if id in test_ids]"
   ]
  },
  {
   "cell_type": "code",
   "execution_count": 27,
   "metadata": {},
   "outputs": [
    {
     "data": {
      "text/plain": [
       "(1774, 1557, 217)"
      ]
     },
     "execution_count": 27,
     "metadata": {},
     "output_type": "execute_result"
    }
   ],
   "source": [
    "len(audio_emb_ids), len(train_audio_emb_ids),len(test_audio_emb_ids)"
   ]
  },
  {
   "cell_type": "code",
   "execution_count": 28,
   "metadata": {},
   "outputs": [],
   "source": [
    "# save ids\n",
    "pickle.dump(train_audio_emb_ids, open('/Users/agnieszkalenart/Documents/mannheim/master_thesis/thesis_erc/CMN_wav2vec2/IEMOCAP/data/trainID_new.pkl', 'wb'))\n",
    "pickle.dump(test_audio_emb_ids, open('/Users/agnieszkalenart/Documents/mannheim/master_thesis/thesis_erc/CMN_wav2vec2/IEMOCAP/data/testID_new.pkl', 'wb'))"
   ]
  }
 ],
 "metadata": {
  "kernelspec": {
   "display_name": "base",
   "language": "python",
   "name": "python3"
  },
  "language_info": {
   "codemirror_mode": {
    "name": "ipython",
    "version": 3
   },
   "file_extension": ".py",
   "mimetype": "text/x-python",
   "name": "python",
   "nbconvert_exporter": "python",
   "pygments_lexer": "ipython3",
   "version": "3.8.12"
  },
  "orig_nbformat": 4
 },
 "nbformat": 4,
 "nbformat_minor": 2
}
